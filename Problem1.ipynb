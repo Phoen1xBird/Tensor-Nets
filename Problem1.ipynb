{
 "cells": [
  {
   "cell_type": "code",
   "execution_count": 2,
   "metadata": {},
   "outputs": [],
   "source": [
    "import numpy as np\n",
    "from ncon import ncon\n",
    "import time\n",
    "from itertools import permutations\n",
    "from tqdm import tqdm"
   ]
  },
  {
   "cell_type": "code",
   "execution_count": 3,
   "metadata": {},
   "outputs": [
    {
     "name": "stderr",
     "output_type": "stream",
     "text": [
      "100%|██████████| 5040/5040 [01:23<00:00, 60.49it/s] \n"
     ]
    }
   ],
   "source": [
    "d = 10\n",
    "A = np.random.rand(d, d, d)\n",
    "B = np.random.rand(d, d, d, d)\n",
    "C = np.random.rand(d, d, d, d)\n",
    "D = np.random.rand(d, d, d)\n",
    "E = np.random.rand(d, d, d)\n",
    "index_perm = list(permutations([1, 2, 3, 4, 5, 6, 7], 7))\n",
    "TensorArray = [A, B, C, D, E]\n",
    "IndexArray = [[-1, 1, 2], [3, 1, -2, 4], [7, 2, 3, 5], [-3, 7, 6], [6, 5, 4]]\n",
    "work_time = []\n",
    "\n",
    "for perm in tqdm(index_perm):\n",
    "    start = time.time()\n",
    "    F = ncon(TensorArray, IndexArray, list(perm))\n",
    "    end = time.time()\n",
    "    elaps = end - start\n",
    "    work_time.append(elaps)\n"
   ]
  },
  {
   "cell_type": "code",
   "execution_count": 4,
   "metadata": {},
   "outputs": [
    {
     "name": "stdout",
     "output_type": "stream",
     "text": [
      "0.000274658203125\n",
      "(6, 7, 3, 2, 1, 5, 4) 0.000274658203125\n",
      "(6, 7, 4, 5, 2, 3, 1) 0.00045037269592285156\n",
      "(6, 7, 3, 4, 1, 5, 2) 0.000457763671875\n",
      "(6, 7, 5, 3, 2, 4, 1) 0.0004622936248779297\n",
      "(6, 5, 4, 2, 7, 1, 3) 0.00046253204345703125\n",
      "(6, 5, 3, 4, 1, 2, 7) 0.0004696846008300781\n",
      "(6, 7, 4, 2, 5, 1, 3) 0.0004730224609375\n",
      "(6, 5, 4, 1, 7, 3, 2) 0.0004761219024658203\n",
      "(6, 7, 3, 5, 4, 1, 2) 0.0004775524139404297\n",
      "(6, 5, 7, 4, 3, 1, 2) 0.0004820823669433594\n",
      "(6, 7, 4, 1, 2, 3, 5) 0.0004851818084716797\n",
      "(6, 7, 5, 4, 3, 2, 1) 0.000492095947265625\n",
      "(6, 5, 3, 2, 1, 7, 4) 0.0004966259002685547\n",
      "(6, 5, 3, 2, 1, 7, 4) 0.0004966259002685547\n",
      "(6, 5, 3, 2, 1, 7, 4) 0.0004966259002685547\n",
      "(6, 5, 3, 4, 1, 7, 2) 0.0004973411560058594\n",
      "(6, 7, 3, 1, 4, 5, 2) 0.0004975795745849609\n",
      "(6, 7, 3, 4, 5, 1, 2) 0.0004978179931640625\n",
      "(6, 7, 3, 4, 5, 1, 2) 0.0004978179931640625\n",
      "(1, 6, 5, 4, 2, 7, 3) 0.0004980564117431641\n"
     ]
    }
   ],
   "source": [
    "print(min(work_time))\n",
    "swt = sorted(work_time)\n",
    "for i in range(20):\n",
    "    print(index_perm[work_time.index(swt[i])], swt[i])"
   ]
  },
  {
   "cell_type": "markdown",
   "metadata": {},
   "source": [
    "Right answer - (6, 5, 7, 3, 4, 1, 2) 0.0004725456237792969\n",
    "Остальные не отражают действительные перемножения матриц(либо я чего-то не понимаю)"
   ]
  },
  {
   "cell_type": "code",
   "execution_count": null,
   "metadata": {},
   "outputs": [],
   "source": []
  },
  {
   "cell_type": "code",
   "execution_count": null,
   "metadata": {},
   "outputs": [],
   "source": []
  },
  {
   "cell_type": "code",
   "execution_count": null,
   "metadata": {},
   "outputs": [],
   "source": []
  },
  {
   "cell_type": "code",
   "execution_count": null,
   "metadata": {},
   "outputs": [],
   "source": []
  },
  {
   "cell_type": "code",
   "execution_count": null,
   "metadata": {},
   "outputs": [],
   "source": []
  }
 ],
 "metadata": {
  "kernelspec": {
   "display_name": "base",
   "language": "python",
   "name": "python3"
  },
  "language_info": {
   "codemirror_mode": {
    "name": "ipython",
    "version": 3
   },
   "file_extension": ".py",
   "mimetype": "text/x-python",
   "name": "python",
   "nbconvert_exporter": "python",
   "pygments_lexer": "ipython3",
   "version": "3.9.12"
  },
  "orig_nbformat": 4
 },
 "nbformat": 4,
 "nbformat_minor": 2
}
